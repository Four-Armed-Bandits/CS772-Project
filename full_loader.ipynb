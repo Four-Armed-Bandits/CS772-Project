{
 "cells": [
  {
   "cell_type": "code",
   "execution_count": 18,
   "id": "d1f51ba6",
   "metadata": {},
   "outputs": [],
   "source": [
    "import pickle"
   ]
  },
  {
   "cell_type": "code",
   "execution_count": 19,
   "id": "f4cd7b41",
   "metadata": {},
   "outputs": [],
   "source": [
    "data = pickle.load(open('full_data.pkl', 'rb'))"
   ]
  },
  {
   "cell_type": "code",
   "execution_count": 20,
   "id": "01be910c",
   "metadata": {},
   "outputs": [
    {
     "name": "stdout",
     "output_type": "stream",
     "text": [
      "dict_keys(['DeepSeek-R1-Distill-Qwen-1.5B', 'gemma-3-1b-it', 'Llama-3.2-1B'])\n"
     ]
    }
   ],
   "source": [
    "print(data.keys())"
   ]
  },
  {
   "cell_type": "code",
   "execution_count": 21,
   "id": "4ecb8ab8",
   "metadata": {},
   "outputs": [
    {
     "name": "stdout",
     "output_type": "stream",
     "text": [
      "dict_keys(['trivia_qa', 'squad', 'svamp'])\n"
     ]
    }
   ],
   "source": [
    "print(data['DeepSeek-R1-Distill-Qwen-1.5B'].keys())"
   ]
  },
  {
   "cell_type": "code",
   "execution_count": 22,
   "id": "08692642",
   "metadata": {},
   "outputs": [
    {
     "name": "stdout",
     "output_type": "stream",
     "text": [
      "['The rocks at the Grand Canyon have been in place since when?', 'Which conjecture holds that for any positive integer n, there is an infinite amount of pairs of consecutive primes differing by 2n?', 'What is the Irish term for private schools?', 'The inside of a ctenophore is lined with what?', 'Which pharmacists are likely to seek additional education following pharmacy school?', 'Who was the first Warsaw President?', 'Besides constant flooding, why else was there regulation of the Rhine?', \"Roughly how much is the Student Government's budget?\", 'Why would rampant violence prevent people from going to work?', 'Who were later Yuan emperors isolated from?', 'How many people were registered to receive the HD service prior to launch?', 'Whose army liberated Warsaw in 1806?', 'Why is the seating of the debating chamber arranged as it is?', 'Which countries use the green Greek cross as a symbol of pharmacy?', 'What is the process of vaccination also known as?', 'To monitor what event would measuring radiance from vegetation provide information?', 'What is the number of plant species in economics and social interest?', 'Which set of countries have higher economic mobility than the United States?', 'What do ctenophore use to capture their prey?', 'What is the name of the area past the border that the megaregion extends into?']\n"
     ]
    }
   ],
   "source": [
    "print(data['DeepSeek-R1-Distill-Qwen-1.5B']['squad']['questions'])"
   ]
  },
  {
   "cell_type": "code",
   "execution_count": 23,
   "id": "e04d739c",
   "metadata": {},
   "outputs": [
    {
     "name": "stdout",
     "output_type": "stream",
     "text": [
      "[['1.5 billion years ago', 'the pre-Columbian era', 'pre-Columbian invasions', '1.5 billion years ago', 'over 3 billion years ago', '1780.', 'pre-aristide', \"millions of years ago, with the Earth's formation.\", '150 million years ago', '1 billion years ago', 'Before recorded events', 'before', '57 million years ago', '13.5 million years ago', 'over 500 million years ago', 'prehistoric epoch.', 'in time to create the concave side of the wall', 'the formation of the earth', '150,000 years ago', 'prehistoric'], ['Goldbach conjecture', 'the twin prime conjecture', \"Goldbach's conjecture\", 'Goldbach conjecture', 'Tornheim conjecture.', 'the Goldbach conjecture', 'the Riemann Hypothesis', 'the twin prime conjecture', 'the twin prime conjecture', 'the k-tuple conjecture', 'the twin prime conjecture', 'the twin prime conjecture', 'twin primes', 'Twin Prime Conjecture', 'the Goldbach conjecture.', 'the twin prime conjecture', \"Goldbach's conjecture.\", 'the twin primes conjecture', 'the twin prime conjecture', \"Polignac's conjecture\"], ['independent schools', 'magnet schools', 'grammar schools', 'grammar schools', 'grammar schools', 'public schools', 'independent schools', 'grammar schools', 'grammar schools', 'public schools', 'Independent schools', 'independent schools', 'secondary schools', 'primary schools', 'independent schools', 'grammar schools', 'parochial schools', 'independent schools', 'grammar schools', 'grammar schools'], ['an open cage', 'gemstones', 'a ring of trees', 'boulders', 'small earthworms', 'ctiophore', 'stones', 'jellyfish and many other single-cell organisms', 'spire-like stones', 'benthos', 'annelids', 'fission rocks', 'many tiny stars', 'hexagonal cells arranged in a hexagonal pattern', 'shells of different sizes but not', 'hexagonal', 'the trachea', 'sponges', 'oystercams', 'the surface of a neutron star'], ['pharmacists specializing in diabetes or pharmacists specializing in...', 'university pharmacists specializing in controlled substances', 'pharmacists practicing in less populated areas.', 'pharmacists in clinical practice', 'those who practice as private pharmaceutical entrepreneurs', 'most likely to become', 'those without adequate academic knowledge or a strong passion for the field', 'pharmacists who wish to expand their practice.', 'those with no experience in research', 'pharmacists who have experience in emergency medicine', 'those who become pharmacists again', 'pharmacists who choose to specialize in medical research or have a career in academia', 'pharmacists who are currently practicing in a remote or rural area', 'academic researchers who specialize in pharmaceutical chemistry and biochemistry', 'pharmacists in emergency medicine, pharmacoeconomic, or pharmacopoeial fields', 'those specializing in medical research, such as in pharmaceutical...', 'general practitioners and other healthcare providers', 'those who can take more advanced medical courses', 'those whose job offers or professional goals are unrelated to chemistry', 'pharmacists specializing in pharmaceutical innovation'], ['Stefan Szołek', 'Henry I of Poland', 'Zbigniew Piotrowski', 'Jan Uder, 6th dwilt.', 'Stefan Pirs', 'Zbigniew II', 'Mieszenko, Jan', 'Jan Poleski', 'Katesa Milosz', 'Jan Kacperski', 'Borys Grodsky', 'Francis I, Grand Duchy of Poland', 'Zbigniew Bratton', 'Piaski', 'Vlach (Vladisław)', 'Pudełkowska, Grzegorz', 'Joseph I', 'Tadeusz Kleczka', 'Stefan Poles', 'Stefan Uckel'], ['because during the Bernhardian Revolution the Rhine was part of the Prussian', \"banks adjust the flow of the river annually, preventing the Rhine from exceeding the banks' capacity\", 'excessive ebb and flow, such as during the Great flood of the Rhine and Typhoid', 'water supply issues affecting', 'regulation of the Rhine river with a dam', 'water pressure', \"the Rhine River's velocity increased during the flood season\", 'regulation for protection against river flows', 'during rainy seasons', \"the Rhine's flow was too often blocked by dam, preventing it from distributing water effectively\", 'The regulation of the Rhine was done during the', 'regulation of the Rhine is done to ensure that the Heflstadic tax system can manage the Rhine river efficiently and effectively.', 'in the 1800s and 1900s', 'regulation of the Leiden', 'regulated the Rhine River so it wouldn’t flood', 'protection of agricultural produce', 'The Rhine was regulated because it had too much spillway capacity.', 'To prevent the Rhine from overflowing into the North of France and the Rhine wetlands', 'to prevent flood from overflow into the Rhine and to allow for the Rhine to rise in flow.', 'because river flows too quickly'], ['around 110 billion yen', 'About $450.', '800 USD', '4,500 yen', '$3,100 to $3,500', 'Around $33,000 annually', 'around $23,000 to $24,000', '$3000', 'Approximately 7% of annual budget', '$20-40 per month', 'a few hundred dollars annually', '$1.7M', '$700 to $1,200 per year', '$3,800 a month', 'up to $8 million', '$750,000', 'about 68%', '5,600 students.', '10,000 dollars to 20,000 dollars', '$80,000'], ['They fear their own safety', 'public safety', 'lack of safe places', 'no medical facility near.', 'It prevents people from working during night shifts', 'there is no economic impact', 'the police would have ordered them to go to work', 'they have no way to escape', 'the lack of healthcare coverage', 'they had the wrong tools in their homes.', 'lack of infrastructure such as electricity or water', 'fear of imminent harm from violence.', 'violence is corrupt and hides the true means of power.', 'lack of safety at work', 'lack of access to proper facilities', 'Inappropriate government policies are being ineffective', 'a', 'fear of being killed', 'fear of being killed in', \"They don't have proper tools or masks\"], ['The Chinese Communist Party', 'Sun Yat-sen', 'foreign leaders.', 'Dara and Taizong', 'the Chinese emperor and the', 'the Sun King of the East', 'the Chinese Han emperors?', 'His son, Gao', 'The Qin Emperor', 'The Yuan Tsuri Emperor was captured in the', 'the emperors of Hong Kong and Macau', 'Han, Wu, and Tang', 'Takeda Shingen and', \"emperors (but this was from the Song period, before Yang tze) so it's unclear. Alternatively, perhaps it was the case of the Mongol Tsundars and later isolation due to political reasons.\", 'Mawangdui', 'the Mongol kings of Genghur', 'later, after, which? (No answer is possible)', 'emperors were either dead or became', 'Wang Hongyi and Zhang Jia.', 'Liang Chao, the Sun, and Wang Hong'], ['1 million.', '21,599', '12 million', '117,597 individuals', '50 persons', '52000', '14 million people', '228 million', '22 million', '78,000', '60 million', 'over a hundred million', '344,109', '2,364 individuals', '250,000', '21,528,000 people', '1200', '488,579', '89 million.', '421,000'], ['Russia', 'Prussian', 'Polish Prag', 'Napoleon Bonaparte', 'Tsar Nicholas II', 'Prussian', 'Jacob Zabnik', 'the Polish army', 'the French', 'Napoleon Bonaparte', 'Jacob', 'Emperor Augustus of the Polish Empire', 'Przybyło', 'Wroclaw', \"Louis XIV's forces\", 'Zenger', 'the Polans', 'Prussian', 'Poles', 'Russia'], ['to keep the chairs in view and avoid conflicts with the', 'It is related to the historical process of the Chakram, where the Chakram is the oldest in the list of Chinese', 'to allow for a variety of topics to be discussed at once', 'so that the group can decide on the issues one by one', 'to keep the chairperson focused on the conversation.', 'to avoid the war', 'to prevent the chairs from being too close to the ceiling', 'To ensure that each delegate can contribute to the final decision-making', 'The room has limited space. So the committee can arrange it as needed.', 'It allows for proper alignment of the speakers for better discussion.', 'to make the room comfortable for participants.', 'to seat the leading debateists on either side', 'for better acoustics', 'to prevent the public from hearing biased voices', 'so that the argument can be discussed', 'The structure of the city and country ensures political stability.', 'for the benefit of the speaker of the opposing party', 'In order to prevent it from being arranged in a different manner.', 'so that the seats are aligned properly', 'To create symmetry'], ['Italy, Greece, and France', 'Germany, Denmark, and France', 'France, Germany, and the Netherlands', 'Greece', 'Greece and Romania', 'Greece and Austria', 'Greece and the United States', 'Greece and Turkey', 'Greece, also called the Hellenic Republic', 'Austria', 'Greece and Turkey.', 'Greece', 'Greece, France, Belgium, Ireland', 'Greece', 'the Greek alphabet', '(Answer in two sentences.)', 'Greece', 'Germany, France, Belgium', 'Greece and Romania', 'Greece'], ['接种', 'vaccination', 'immunization', 'immunization', 'immunization', 'immunization', 'diphtheria vaccination', '接种', 'serpentine vaccination', 'immunization', 'immunization', 'seroprevalence', 'immunization', 'immunojet', 'polio', 'immunization', 'immunization', '接种', 'immunization', 'serological testing'], ['detect changes in the vegetation layer.', 'forest fire', 'precipitation', 'the amount of CO₂ in the atmosphere', 'the growth of trees', 'weather patterns', 'cloud cover', 'plant carbon emissions', 'soil composition, plant diversity, and leaf structure', 'climate change', 'land-use change, including deforestation', 'carbon dioxide levels', 'cloud changes in the atmosphere', 'temperature', 'monitor longevation', 'climate change', 'photos', 'fire detection', 'tree leaves or greenery.', 'tree ring width'], ['2', 'millions', '85', 'zero', '1000 species', 'an unknown number', 'extremely low', '265 species, which number approximately 271', '1,212 plant species, 4,310 plant species', '50, but some have been extirpened.', 'over 30,000 species', 'a small population', '1,917 species', 'the highest species richness in ecosystems', 'many many, many, many, but I cannot remember exactly...', '1', 'about 200,000', '453 species', '183 plant species', '2,375'], ['Europe', 'Japan and Germany', 'China and India', 'Japan and Germany', 'Japan and Germany', 'South Korea, Germany, Japan, Sweden, France, Denmark, Netherlands, and', 'Germany and France', 'China, India, Brazil, South Africa, Japan, Germany, Canada, Taiwan', 'Japan and Germany', 'South Korea and Japan', 'Japan, Germany, and France', 'Canada and Germany', 'Japan, Germany, and France', 'China and India', 'Japan, Germany, France, and the Netherlands', 'Brazil, Germany, Japan, South Africa, Taiwan, Turkey', 'Germany and Japan', 'European countries such as the UK, Germany, Japan, France, and Spain', 'Japan, Germany', 'Great Britain, France, Italy, Germany'], ['squalid', 'jellyfish', 'flies', 'large clusters of small animals', 'acorns', 'male moths', 'ants', 'capture using magnetic particles', 'a trap of water', 'spiders', 'fish', 'flies', 'large insects with strong eyesight', 'acorns', 'subunits', 'hunting with their bodies.', 'spiders', 'ctn', 'search for their scent markers', 'to eat tiny insects'], ['the megaregion', 'The megaregional area', 'megacity', 'the Northern Region of the Taiwan Island', 'The Great Wall', 'East of the East Frana region', 'the megaregion extends into the East Coast United States', 'Pacific Plateau', 'the deserts of the North China', 'Megastan', \"the megaregion's southern boundary\", 'the \"East\" of the megaregion', 'the area that is beyond the megaregion', 'the Mtsukur area', 'North China', 'North', 'the area north', 'the northwest', 'The North', 'North East']]\n"
     ]
    }
   ],
   "source": [
    "print(data['DeepSeek-R1-Distill-Qwen-1.5B']['squad']['answers'])"
   ]
  },
  {
   "cell_type": "markdown",
   "id": "ec1bacb8",
   "metadata": {},
   "source": [
    "answers[i] is list of answers for questions[i]"
   ]
  },
  {
   "cell_type": "code",
   "execution_count": 25,
   "id": "2921174f",
   "metadata": {},
   "outputs": [
    {
     "name": "stdout",
     "output_type": "stream",
     "text": [
      "First question: The rocks at the Grand Canyon have been in place since when?\n",
      "Asnwer for first questions: ['1.5 billion years ago', 'the pre-Columbian era', 'pre-Columbian invasions', '1.5 billion years ago', 'over 3 billion years ago', '1780.', 'pre-aristide', \"millions of years ago, with the Earth's formation.\", '150 million years ago', '1 billion years ago', 'Before recorded events', 'before', '57 million years ago', '13.5 million years ago', 'over 500 million years ago', 'prehistoric epoch.', 'in time to create the concave side of the wall', 'the formation of the earth', '150,000 years ago', 'prehistoric']\n"
     ]
    }
   ],
   "source": [
    "print(\"First question:\", data['DeepSeek-R1-Distill-Qwen-1.5B']['squad']['questions'][0])\n",
    "print(\"Asnwer for first questions:\", data['DeepSeek-R1-Distill-Qwen-1.5B']['squad']['answers'][0])"
   ]
  },
  {
   "cell_type": "code",
   "execution_count": null,
   "id": "8f9f0aa2",
   "metadata": {},
   "outputs": [],
   "source": []
  }
 ],
 "metadata": {
  "kernelspec": {
   "display_name": "kernel_language_entropy",
   "language": "python",
   "name": "python3"
  },
  "language_info": {
   "codemirror_mode": {
    "name": "ipython",
    "version": 3
   },
   "file_extension": ".py",
   "mimetype": "text/x-python",
   "name": "python",
   "nbconvert_exporter": "python",
   "pygments_lexer": "ipython3",
   "version": "3.11.11"
  }
 },
 "nbformat": 4,
 "nbformat_minor": 5
}
